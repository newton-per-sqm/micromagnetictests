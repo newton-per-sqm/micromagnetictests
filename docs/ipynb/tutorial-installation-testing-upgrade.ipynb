{
 "cells": [
  {
   "cell_type": "markdown",
   "metadata": {},
   "source": [
    "# Tutorial 00: Installation, testing, and upgrade\n",
    "\n",
    "> Interactive online tutorial:\n",
    "> [![Binder](https://mybinder.org/badge_logo.svg)](https://mybinder.org/v2/gh/ubermag/oommfc/master?filepath=docs%2Fipynb%2Findex.ipynb)\n",
    "\n",
    "## Installation\n",
    "\n",
    "We recommend installing `micromagnetictests` using `conda` package manager.\n",
    "\n",
    "If you do not already have it, [Download Anaconda](https://www.anaconda.com/download) for your operating system and follow instructions to install it. For further information on the `conda` package, dependency, and environment management, please have a look at its [documentation](https://conda.io/docs/).\n",
    "\n",
    "`micromagnetictests` is installed using `conda` by running\n",
    "\n",
    "    $ conda install --channel conda-forge micromagnetictests\n",
    "    \n",
    "## Testing\n",
    "\n",
    "After the installation, you can test the `oommfc` package with\n",
    "\n",
    "    $ python3 -c \"import micromagnetictests; micromagnetictests.test()\"\n",
    "    \n",
    "## Upgrade\n",
    "\n",
    "If you used `conda` for the installation, upgrade `micromagnetictests` by running:\n",
    "\n",
    "    $ conda upgrade micromagnetictests"
   ]
  }
 ],
 "metadata": {
  "kernelspec": {
   "display_name": "Python 3",
   "language": "python",
   "name": "python3"
  },
  "language_info": {
   "codemirror_mode": {
    "name": "ipython",
    "version": 3
   },
   "file_extension": ".py",
   "mimetype": "text/x-python",
   "name": "python",
   "nbconvert_exporter": "python",
   "pygments_lexer": "ipython3",
   "version": "3.7.6"
  },
  "widgets": {
   "application/vnd.jupyter.widget-state+json": {
    "state": {},
    "version_major": 2,
    "version_minor": 0
   }
  }
 },
 "nbformat": 4,
 "nbformat_minor": 4
}
